{
 "cells": [
  {
   "cell_type": "markdown",
   "id": "d3c3054d",
   "metadata": {},
   "source": [
    "# Ad Click Prediction \n",
    "\n",
    "Building a simple logistic regression model using the [Ad Click prediction dataset](https://www.kaggle.com/jahnveenarang/cvdcvd-vd).\n",
    "\n",
    "We will work with some demographic data to predict whether a user purchased something after clicking on an ad or not. We will start off by importing the libraries and datasets.\n"
   ]
  },
  {
   "cell_type": "code",
   "execution_count": 33,
   "id": "548cad37",
   "metadata": {},
   "outputs": [],
   "source": [
    "import pandas as pd\n",
    "import numpy as np\n",
    "\n",
    "#Visualization\n",
    "import matplotlib.pyplot as plot\n",
    "import seaborn as sns\n",
    "import matplotlib.pyplot as plt\n",
    "\n",
    "#SKLearn ML\n",
    "from sklearn.linear_model import LogisticRegression\n",
    "from sklearn.model_selection import train_test_split\n",
    "from sklearn.metrics import confusion_matrix, ConfusionMatrixDisplay\n",
    "from sklearn.preprocessing import StandardScaler"
   ]
  },
  {
   "cell_type": "code",
   "execution_count": 34,
   "id": "f447ee19",
   "metadata": {},
   "outputs": [],
   "source": [
    "#Loading dataset\n",
    "social_network_ads = pd.read_csv('Social_Network_Ads.csv')"
   ]
  },
  {
   "cell_type": "code",
   "execution_count": 35,
   "id": "e645f441",
   "metadata": {},
   "outputs": [
    {
     "data": {
      "text/html": [
       "<div>\n",
       "<style scoped>\n",
       "    .dataframe tbody tr th:only-of-type {\n",
       "        vertical-align: middle;\n",
       "    }\n",
       "\n",
       "    .dataframe tbody tr th {\n",
       "        vertical-align: top;\n",
       "    }\n",
       "\n",
       "    .dataframe thead th {\n",
       "        text-align: right;\n",
       "    }\n",
       "</style>\n",
       "<table border=\"1\" class=\"dataframe\">\n",
       "  <thead>\n",
       "    <tr style=\"text-align: right;\">\n",
       "      <th></th>\n",
       "      <th>User ID</th>\n",
       "      <th>Female</th>\n",
       "      <th>Age</th>\n",
       "      <th>EstimatedSalary</th>\n",
       "      <th>Purchased</th>\n",
       "    </tr>\n",
       "  </thead>\n",
       "  <tbody>\n",
       "    <tr>\n",
       "      <th>0</th>\n",
       "      <td>15624510</td>\n",
       "      <td>0</td>\n",
       "      <td>19</td>\n",
       "      <td>19000</td>\n",
       "      <td>0</td>\n",
       "    </tr>\n",
       "    <tr>\n",
       "      <th>1</th>\n",
       "      <td>15810944</td>\n",
       "      <td>0</td>\n",
       "      <td>35</td>\n",
       "      <td>20000</td>\n",
       "      <td>0</td>\n",
       "    </tr>\n",
       "    <tr>\n",
       "      <th>2</th>\n",
       "      <td>15668575</td>\n",
       "      <td>1</td>\n",
       "      <td>26</td>\n",
       "      <td>43000</td>\n",
       "      <td>0</td>\n",
       "    </tr>\n",
       "    <tr>\n",
       "      <th>3</th>\n",
       "      <td>15603246</td>\n",
       "      <td>1</td>\n",
       "      <td>27</td>\n",
       "      <td>57000</td>\n",
       "      <td>0</td>\n",
       "    </tr>\n",
       "    <tr>\n",
       "      <th>4</th>\n",
       "      <td>15804002</td>\n",
       "      <td>0</td>\n",
       "      <td>19</td>\n",
       "      <td>76000</td>\n",
       "      <td>0</td>\n",
       "    </tr>\n",
       "    <tr>\n",
       "      <th>...</th>\n",
       "      <td>...</td>\n",
       "      <td>...</td>\n",
       "      <td>...</td>\n",
       "      <td>...</td>\n",
       "      <td>...</td>\n",
       "    </tr>\n",
       "    <tr>\n",
       "      <th>395</th>\n",
       "      <td>15691863</td>\n",
       "      <td>1</td>\n",
       "      <td>46</td>\n",
       "      <td>41000</td>\n",
       "      <td>1</td>\n",
       "    </tr>\n",
       "    <tr>\n",
       "      <th>396</th>\n",
       "      <td>15706071</td>\n",
       "      <td>0</td>\n",
       "      <td>51</td>\n",
       "      <td>23000</td>\n",
       "      <td>1</td>\n",
       "    </tr>\n",
       "    <tr>\n",
       "      <th>397</th>\n",
       "      <td>15654296</td>\n",
       "      <td>1</td>\n",
       "      <td>50</td>\n",
       "      <td>20000</td>\n",
       "      <td>1</td>\n",
       "    </tr>\n",
       "    <tr>\n",
       "      <th>398</th>\n",
       "      <td>15755018</td>\n",
       "      <td>0</td>\n",
       "      <td>36</td>\n",
       "      <td>33000</td>\n",
       "      <td>0</td>\n",
       "    </tr>\n",
       "    <tr>\n",
       "      <th>399</th>\n",
       "      <td>15594041</td>\n",
       "      <td>1</td>\n",
       "      <td>49</td>\n",
       "      <td>36000</td>\n",
       "      <td>1</td>\n",
       "    </tr>\n",
       "  </tbody>\n",
       "</table>\n",
       "<p>400 rows × 5 columns</p>\n",
       "</div>"
      ],
      "text/plain": [
       "      User ID  Female  Age  EstimatedSalary  Purchased\n",
       "0    15624510       0   19            19000          0\n",
       "1    15810944       0   35            20000          0\n",
       "2    15668575       1   26            43000          0\n",
       "3    15603246       1   27            57000          0\n",
       "4    15804002       0   19            76000          0\n",
       "..        ...     ...  ...              ...        ...\n",
       "395  15691863       1   46            41000          1\n",
       "396  15706071       0   51            23000          1\n",
       "397  15654296       1   50            20000          1\n",
       "398  15755018       0   36            33000          0\n",
       "399  15594041       1   49            36000          1\n",
       "\n",
       "[400 rows x 5 columns]"
      ]
     },
     "execution_count": 35,
     "metadata": {},
     "output_type": "execute_result"
    }
   ],
   "source": [
    "#Displaying the loaded dataframe\n",
    "social_network_ads"
   ]
  },
  {
   "cell_type": "markdown",
   "id": "ad5c9955",
   "metadata": {},
   "source": [
    "We notice 5 different columns outlying customer ID, gender, age, estimated salary and whether they purchased a product after clicking on an ad.\n",
    "\n",
    "'User ID': unique identification for consumer\\\n",
    "'Age': cutomer age in years\\\n",
    "'Estimated Salary': Avg. Income of consumer\\\n",
    "'Female': Whether consumer was male or female\\\n",
    "'Purchased': 0 or 1 indicated clicking on Ad\\"
   ]
  },
  {
   "cell_type": "markdown",
   "id": "61c41c39",
   "metadata": {},
   "source": [
    "### Exploring the dataset\n"
   ]
  },
  {
   "cell_type": "code",
   "execution_count": 36,
   "id": "d9abfcb7",
   "metadata": {},
   "outputs": [
    {
     "data": {
      "text/plain": [
       "(400, 5)"
      ]
     },
     "execution_count": 36,
     "metadata": {},
     "output_type": "execute_result"
    }
   ],
   "source": [
    "social_network_ads.shape"
   ]
  },
  {
   "cell_type": "markdown",
   "id": "d95e9dcd",
   "metadata": {},
   "source": [
    "We can see that there are 400 rows (data entries) and 5 columns (features). We can also look at the top few entries to get an idea about the data"
   ]
  },
  {
   "cell_type": "code",
   "execution_count": 37,
   "id": "d574d6ac",
   "metadata": {},
   "outputs": [
    {
     "data": {
      "text/html": [
       "<div>\n",
       "<style scoped>\n",
       "    .dataframe tbody tr th:only-of-type {\n",
       "        vertical-align: middle;\n",
       "    }\n",
       "\n",
       "    .dataframe tbody tr th {\n",
       "        vertical-align: top;\n",
       "    }\n",
       "\n",
       "    .dataframe thead th {\n",
       "        text-align: right;\n",
       "    }\n",
       "</style>\n",
       "<table border=\"1\" class=\"dataframe\">\n",
       "  <thead>\n",
       "    <tr style=\"text-align: right;\">\n",
       "      <th></th>\n",
       "      <th>User ID</th>\n",
       "      <th>Female</th>\n",
       "      <th>Age</th>\n",
       "      <th>EstimatedSalary</th>\n",
       "      <th>Purchased</th>\n",
       "    </tr>\n",
       "  </thead>\n",
       "  <tbody>\n",
       "    <tr>\n",
       "      <th>0</th>\n",
       "      <td>15624510</td>\n",
       "      <td>0</td>\n",
       "      <td>19</td>\n",
       "      <td>19000</td>\n",
       "      <td>0</td>\n",
       "    </tr>\n",
       "    <tr>\n",
       "      <th>1</th>\n",
       "      <td>15810944</td>\n",
       "      <td>0</td>\n",
       "      <td>35</td>\n",
       "      <td>20000</td>\n",
       "      <td>0</td>\n",
       "    </tr>\n",
       "    <tr>\n",
       "      <th>2</th>\n",
       "      <td>15668575</td>\n",
       "      <td>1</td>\n",
       "      <td>26</td>\n",
       "      <td>43000</td>\n",
       "      <td>0</td>\n",
       "    </tr>\n",
       "    <tr>\n",
       "      <th>3</th>\n",
       "      <td>15603246</td>\n",
       "      <td>1</td>\n",
       "      <td>27</td>\n",
       "      <td>57000</td>\n",
       "      <td>0</td>\n",
       "    </tr>\n",
       "    <tr>\n",
       "      <th>4</th>\n",
       "      <td>15804002</td>\n",
       "      <td>0</td>\n",
       "      <td>19</td>\n",
       "      <td>76000</td>\n",
       "      <td>0</td>\n",
       "    </tr>\n",
       "  </tbody>\n",
       "</table>\n",
       "</div>"
      ],
      "text/plain": [
       "    User ID  Female  Age  EstimatedSalary  Purchased\n",
       "0  15624510       0   19            19000          0\n",
       "1  15810944       0   35            20000          0\n",
       "2  15668575       1   26            43000          0\n",
       "3  15603246       1   27            57000          0\n",
       "4  15804002       0   19            76000          0"
      ]
     },
     "execution_count": 37,
     "metadata": {},
     "output_type": "execute_result"
    }
   ],
   "source": [
    "social_network_ads.head(5)"
   ]
  },
  {
   "cell_type": "code",
   "execution_count": 38,
   "id": "10b4d6f7",
   "metadata": {
    "scrolled": true
   },
   "outputs": [
    {
     "data": {
      "text/plain": [
       "User ID            int64\n",
       "Female             int64\n",
       "Age                int64\n",
       "EstimatedSalary    int64\n",
       "Purchased          int64\n",
       "dtype: object"
      ]
     },
     "execution_count": 38,
     "metadata": {},
     "output_type": "execute_result"
    }
   ],
   "source": [
    "social_network_ads.dtypes"
   ]
  },
  {
   "cell_type": "markdown",
   "id": "8855fa67",
   "metadata": {},
   "source": [
    "### Visual exploration of the Data\n"
   ]
  },
  {
   "cell_type": "markdown",
   "id": "d3b9571f",
   "metadata": {},
   "source": [
    "#### Using a Histogram\n",
    "\n",
    "Histogram refers to the frequency of occurrence of variables in an interval, it is useful to see the different categories of data and how frequently they occur in a column. Next, we will look at the histogram of male and female distribution across the ranges of age. Most people are included between the 20 and 50 year-old bracket."
   ]
  },
  {
   "cell_type": "code",
   "execution_count": 39,
   "id": "7b1f881c",
   "metadata": {},
   "outputs": [
    {
     "data": {
      "image/png": "[encoded data removed]",
      "text/plain": [
       "<Figure size 561.361x500 with 1 Axes>"
      ]
     },
     "metadata": {},
     "output_type": "display_data"
    }
   ],
   "source": [
    "#plot a histogram of count by age_range, with one series per gender\n",
    "social_network_ads_bins = social_network_ads[social_network_ads.Age.notna()]\n",
    "\n",
    "bins = list(range(0, 120, 10))\n",
    "social_network_ads_bins['age_range'] = pd.cut(social_network_ads.Age, bins=bins)\n",
    "chart = sns.catplot(x=\"age_range\", kind=\"count\", hue=\"Female\", data=social_network_ads_bins);\n",
    "for axes in chart.axes.flat:\n",
    "    axes.set_xticklabels(axes.get_xticklabels(), rotation=90)"
   ]
  },
  {
   "cell_type": "markdown",
   "id": "2b2e2499",
   "metadata": {},
   "source": [
    "We can see that the distribution of data in the dataset is roughly equal. A balanced dataset is the one that contains equal or almost equal number of samples from the positive and negative class. If one of the class outnumbers the other in the dataset, then the distrubtion is known to be skewed - or in favour of one class, as the results will introduce a bias towards that class, which can affect our results and the assumptions we are making."
   ]
  },
  {
   "cell_type": "markdown",
   "id": "ffb4d7e1",
   "metadata": {},
   "source": [
    "## Using Sklearn to fit a regression model\n",
    "We will be using sklearn for fitting the first logistic regression model. We will split our dataframe into the following:\n",
    "- A single column for the target variable (technically a Series)\n",
    "- Remaining columns for the inputs (Since there are multiple columns this is a dataframe) \n"
   ]
  },
  {
   "cell_type": "code",
   "execution_count": 40,
   "id": "97cd32bb",
   "metadata": {},
   "outputs": [],
   "source": [
    "#Separate x_inputs from y_target variables\n",
    "y_target = social_network_ads.Purchased\n",
    "x_inputs = social_network_ads[['Female','Age','EstimatedSalary']]"
   ]
  },
  {
   "cell_type": "markdown",
   "id": "007ee5fc",
   "metadata": {},
   "source": [
    "#### Splitting dataset into Training and Test sets"
   ]
  },
  {
   "cell_type": "markdown",
   "id": "fcb4ca43",
   "metadata": {},
   "source": [
    "It is always a good practice in Machine learning to split the dataset into training and test sets to evaluate how well our model does when trained on a set of data (train) and predicting on data it has not seen before (test). "
   ]
  },
  {
   "cell_type": "markdown",
   "id": "86f7319d",
   "metadata": {},
   "source": [
    "Finalizing our training data or independent features (X) and also specify our outcome variable (Y). "
   ]
  },
  {
   "cell_type": "code",
   "execution_count": 41,
   "id": "2ee125d0",
   "metadata": {},
   "outputs": [
    {
     "name": "stdout",
     "output_type": "stream",
     "text": [
      "X_train: (320, 3)\n",
      "X_test: (80, 3)\n",
      "Y_train: 320\n",
      "Y_test: 80\n"
     ]
    }
   ],
   "source": [
    "#Split the data into training and test sets using the function\n",
    "x_train, x_test, y_train, y_test = train_test_split(x_inputs, y_target, train_size=0.8)\n",
    "\n",
    "print(\"X_train:\", x_train.shape)\n",
    "print(\"X_test:\", x_test.shape)\n",
    "print(\"Y_train:\", len(y_train))\n",
    "print(\"Y_test:\", len(y_test))"
   ]
  },
  {
   "cell_type": "markdown",
   "id": "70e5a6b4",
   "metadata": {},
   "source": [
    "#### Pre-processing step (Scaling data)"
   ]
  },
  {
   "cell_type": "markdown",
   "id": "a647ae6d",
   "metadata": {},
   "source": [
    "Before we fit the logistic regression, we will scale the data to normalize all the data and it is especially helpful in dataset with variables in different units.\n"
   ]
  },
  {
   "cell_type": "code",
   "execution_count": 42,
   "id": "e00f4802",
   "metadata": {},
   "outputs": [],
   "source": [
    "sc_X = StandardScaler()"
   ]
  },
  {
   "cell_type": "code",
   "execution_count": 43,
   "id": "0a179913",
   "metadata": {},
   "outputs": [],
   "source": [
    "x_train = sc_X.fit_transform(x_train)"
   ]
  },
  {
   "cell_type": "code",
   "execution_count": 44,
   "id": "f9d53754",
   "metadata": {},
   "outputs": [],
   "source": [
    "x_test = sc_X.fit_transform(x_test)"
   ]
  },
  {
   "cell_type": "markdown",
   "id": "8b827f50",
   "metadata": {},
   "source": [
    "#### Fitting the model and evaluating results"
   ]
  },
  {
   "cell_type": "markdown",
   "id": "f267fe52",
   "metadata": {},
   "source": [
    "We declare the model using LogisticRegression and then fit it to our training dataset and labels."
   ]
  },
  {
   "cell_type": "code",
   "execution_count": 45,
   "id": "f9e60572",
   "metadata": {},
   "outputs": [],
   "source": [
    "#Declare a logistic regression classifier\n",
    "classifier = LogisticRegression(max_iter=1000).fit(x_train, y_train)"
   ]
  },
  {
   "cell_type": "markdown",
   "id": "cc554430",
   "metadata": {},
   "source": [
    "We can now predict on the test data to see what the predictions would be like for unseen data by the model."
   ]
  },
  {
   "cell_type": "code",
   "execution_count": 46,
   "id": "c0cf86d4",
   "metadata": {},
   "outputs": [
    {
     "data": {
      "text/plain": [
       "array([1, 0, 1, 0, 0, 0, 0, 1, 1, 1, 1, 0, 0, 1, 0, 0, 1, 0, 0, 0, 1, 0,\n",
       "       0, 1, 0, 0, 0, 0, 0, 0, 0, 0, 0, 0, 0, 1, 1, 0, 0, 0, 0, 1, 0, 0,\n",
       "       0, 0, 0, 1, 0, 0, 1, 0, 1, 0, 1, 0, 0, 1, 0, 0, 0, 0, 0, 1, 0, 1,\n",
       "       0, 0, 0, 0, 0, 0, 0, 1, 0, 0, 0, 0, 0, 0, 0, 0, 0, 0, 1, 0, 0, 0,\n",
       "       1, 0, 0, 0, 0, 0, 1, 1, 0, 1, 1, 0, 0, 0, 0, 0, 0, 0, 1, 1, 0, 0,\n",
       "       0, 1, 1, 0, 1, 1, 1, 1, 0, 0, 0, 0, 0, 0, 1, 1, 0, 0, 0, 0, 0, 0,\n",
       "       1, 0, 0, 0, 1, 0, 0, 1, 0, 0, 0, 0, 1, 0, 1, 1, 1, 0, 1, 0, 0, 0,\n",
       "       0, 0, 0, 0, 1, 1, 0, 0, 0, 0, 0, 0, 0, 0, 0, 0, 0, 0, 0, 0, 0, 1,\n",
       "       0, 1, 1, 0, 0, 0, 0, 0, 1, 0, 0, 0, 0, 1, 0, 1, 0, 0, 0, 1, 0, 0,\n",
       "       0, 0, 1, 0, 0, 1, 1, 0, 0, 0, 1, 1, 1, 1, 0, 0, 1, 0, 1, 0, 0, 0,\n",
       "       0, 0, 1, 0, 1, 0, 0, 0, 1, 1, 0, 0, 0, 0, 0, 0, 0, 0, 0, 1, 0, 0,\n",
       "       1, 0, 0, 0, 0, 0, 0, 0, 1, 1, 0, 0, 0, 1, 0, 1, 1, 1, 1, 0, 0, 0,\n",
       "       0, 1, 1, 0, 1, 0, 0, 1, 0, 0, 0, 1, 0, 0, 0, 0, 0, 0, 0, 0, 0, 1,\n",
       "       0, 1, 0, 1, 1, 0, 0, 0, 1, 0, 1, 0, 1, 1, 0, 0, 0, 1, 0, 0, 1, 0,\n",
       "       1, 0, 0, 0, 0, 1, 1, 0, 1, 0, 0, 1], dtype=int64)"
      ]
     },
     "execution_count": 46,
     "metadata": {},
     "output_type": "execute_result"
    }
   ],
   "source": [
    "#Make predictions on test data\n",
    "pred = classifier.predict(x_train)\n",
    "pred"
   ]
  },
  {
   "cell_type": "markdown",
   "id": "c5edeb6e",
   "metadata": {},
   "source": [
    "We can use the score method as a first way of understanding how good our model is. The method works by returning the mean accuracy on the given test."
   ]
  },
  {
   "cell_type": "code",
   "execution_count": 47,
   "id": "530463db",
   "metadata": {},
   "outputs": [
    {
     "name": "stdout",
     "output_type": "stream",
     "text": [
      "0.853125\n",
      "0.8625\n"
     ]
    }
   ],
   "source": [
    "#Print out score on the train data\n",
    "print(classifier.score(x_train, y_train))\n",
    "print(classifier.score(x_test, y_test))"
   ]
  },
  {
   "cell_type": "markdown",
   "id": "54a88891",
   "metadata": {},
   "source": [
    "The score here evaluates the performance of the model, by default, the classifier uses Accuracy as the score. We can also use the confusion matrix to better evaluate the model."
   ]
  },
  {
   "cell_type": "code",
   "execution_count": 48,
   "id": "c605ff3c",
   "metadata": {},
   "outputs": [
    {
     "data": {
      "image/png": "[encoded data removed]",
      "text/plain": [
       "<Figure size 800x600 with 2 Axes>"
      ]
     },
     "metadata": {},
     "output_type": "display_data"
    }
   ],
   "source": [
    "# Generate the confusion matrix\n",
    "cm = confusion_matrix(y_train, pred)\n",
    "\n",
    "# Plot the confusion matrix\n",
    "plt.figure(figsize=(8, 6))\n",
    "sns.heatmap(cm, annot=True, fmt='d', cmap='Blues')\n",
    "plt.xlabel('Predicted')\n",
    "plt.ylabel('Actual')\n",
    "plt.title('Confusion Matrix')\n",
    "plt.show()"
   ]
  },
  {
   "cell_type": "markdown",
   "id": "bda05df2",
   "metadata": {},
   "source": [
    "## Fitting the Linear Regression Model\n",
    "\n",
    "To fit the model using statsmodels we first separate our target variable (Y) and independent variables (X). As we want to predict the purchase, this is our target variable Y. The rest are our independet variables X. "
   ]
  },
  {
   "cell_type": "markdown",
   "id": "0e6f494d",
   "metadata": {},
   "source": [
    "## Using Statsmodel\n",
    "Now, we will have a look at using the Statsmodel library for fitting logistic regression model. We will specify the model and in the next step we will fit the model."
   ]
  },
  {
   "cell_type": "code",
   "execution_count": 49,
   "id": "0e195690",
   "metadata": {},
   "outputs": [],
   "source": [
    "import statsmodels.api as sm"
   ]
  },
  {
   "cell_type": "code",
   "execution_count": 50,
   "id": "a31d81ff",
   "metadata": {},
   "outputs": [
    {
     "name": "stdout",
     "output_type": "stream",
     "text": [
      "Optimization terminated successfully.\n",
      "         Current function value: 0.677546\n",
      "         Iterations 4\n"
     ]
    }
   ],
   "source": [
    "# building the model \n",
    "log_reg = sm.Logit(endog = y_target, exog=x_inputs)\n",
    "\n",
    "# #fitting the data\n",
    "log_reg = log_reg.fit()"
   ]
  },
  {
   "cell_type": "markdown",
   "id": "e82f5bf1",
   "metadata": {},
   "source": [
    "Now we will print the model results summary. The summary includes information on the fit process as well as the estimated coefficients."
   ]
  },
  {
   "cell_type": "code",
   "execution_count": 51,
   "id": "8e6efbbd",
   "metadata": {},
   "outputs": [
    {
     "data": {
      "text/html": [
       "<table class=\"simpletable\">\n",
       "<caption>Logit Regression Results</caption>\n",
       "<tr>\n",
       "  <th>Dep. Variable:</th>       <td>Purchased</td>    <th>  No. Observations:  </th>  <td>   400</td> \n",
       "</tr>\n",
       "<tr>\n",
       "  <th>Model:</th>                 <td>Logit</td>      <th>  Df Residuals:      </th>  <td>   397</td> \n",
       "</tr>\n",
       "<tr>\n",
       "  <th>Method:</th>                 <td>MLE</td>       <th>  Df Model:          </th>  <td>     2</td> \n",
       "</tr>\n",
       "<tr>\n",
       "  <th>Date:</th>            <td>Tue, 13 Aug 2024</td> <th>  Pseudo R-squ.:     </th> <td>-0.03923</td>\n",
       "</tr>\n",
       "<tr>\n",
       "  <th>Time:</th>                <td>12:26:05</td>     <th>  Log-Likelihood:    </th> <td> -271.02</td>\n",
       "</tr>\n",
       "<tr>\n",
       "  <th>converged:</th>             <td>True</td>       <th>  LL-Null:           </th> <td> -260.79</td>\n",
       "</tr>\n",
       "<tr>\n",
       "  <th>Covariance Type:</th>     <td>nonrobust</td>    <th>  LLR p-value:       </th>  <td> 1.000</td> \n",
       "</tr>\n",
       "</table>\n",
       "<table class=\"simpletable\">\n",
       "<tr>\n",
       "         <td></td>            <th>coef</th>     <th>std err</th>      <th>z</th>      <th>P>|z|</th>  <th>[0.025</th>    <th>0.975]</th>  \n",
       "</tr>\n",
       "<tr>\n",
       "  <th>Female</th>          <td>   -0.5371</td> <td>    0.201</td> <td>   -2.666</td> <td> 0.008</td> <td>   -0.932</td> <td>   -0.142</td>\n",
       "</tr>\n",
       "<tr>\n",
       "  <th>Age</th>             <td>   -0.0002</td> <td>    0.006</td> <td>   -0.035</td> <td> 0.972</td> <td>   -0.012</td> <td>    0.011</td>\n",
       "</tr>\n",
       "<tr>\n",
       "  <th>EstimatedSalary</th> <td> 6.209e-07</td> <td> 2.82e-06</td> <td>    0.220</td> <td> 0.826</td> <td>-4.91e-06</td> <td> 6.15e-06</td>\n",
       "</tr>\n",
       "</table>"
      ],
      "text/plain": [
       "<class 'statsmodels.iolib.summary.Summary'>\n",
       "\"\"\"\n",
       "                           Logit Regression Results                           \n",
       "==============================================================================\n",
       "Dep. Variable:              Purchased   No. Observations:                  400\n",
       "Model:                          Logit   Df Residuals:                      397\n",
       "Method:                           MLE   Df Model:                            2\n",
       "Date:                Tue, 13 Aug 2024   Pseudo R-squ.:                -0.03923\n",
       "Time:                        12:26:05   Log-Likelihood:                -271.02\n",
       "converged:                       True   LL-Null:                       -260.79\n",
       "Covariance Type:            nonrobust   LLR p-value:                     1.000\n",
       "===================================================================================\n",
       "                      coef    std err          z      P>|z|      [0.025      0.975]\n",
       "-----------------------------------------------------------------------------------\n",
       "Female             -0.5371      0.201     -2.666      0.008      -0.932      -0.142\n",
       "Age                -0.0002      0.006     -0.035      0.972      -0.012       0.011\n",
       "EstimatedSalary  6.209e-07   2.82e-06      0.220      0.826   -4.91e-06    6.15e-06\n",
       "===================================================================================\n",
       "\"\"\""
      ]
     },
     "execution_count": 51,
     "metadata": {},
     "output_type": "execute_result"
    }
   ],
   "source": [
    "log_reg.summary(xname=['Female', 'Age', 'EstimatedSalary'])"
   ]
  },
  {
   "cell_type": "markdown",
   "id": "2b2fe2d7",
   "metadata": {},
   "source": [
    "We can use the p-value to check the possibility of output predction. Age and Estimated Salary have a very p-value greater than 0.05 meaning they are not statistically significant in helping predict the output variable. But the gender can help in predicting the output variable since the p-value is less than 0.05"
   ]
  },
  {
   "cell_type": "markdown",
   "id": "efe2ae22",
   "metadata": {},
   "source": [
    "#### Log Odds and Interpretation"
   ]
  },
  {
   "cell_type": "markdown",
   "id": "136776f8",
   "metadata": {},
   "source": [
    "The Female coefficient (x1) has a coefficient of β=-0.5371 and is statistically significant (p-value of 0.000). We now want to look at the interpretation transforming the coefficients into log odds. We do so by taking the exponential of the parameters. We can remember that Female is our x1 variable."
   ]
  },
  {
   "cell_type": "code",
   "execution_count": 52,
   "id": "697583b0",
   "metadata": {},
   "outputs": [
    {
     "name": "stdout",
     "output_type": "stream",
     "text": [
      "                 Odds Ratio\n",
      "Female             0.584419\n",
      "Age                0.999796\n",
      "EstimatedSalary    1.000001\n"
     ]
    }
   ],
   "source": [
    "odds_ratios = pd.DataFrame({\"Odds Ratio\": log_reg.params})\n",
    "\n",
    "odds_ratios = np.exp(odds_ratios)\n",
    "print(odds_ratios)"
   ]
  },
  {
   "cell_type": "markdown",
   "id": "8f5d70ca",
   "metadata": {},
   "source": [
    "Taking the exponent of the Female coefficient (-0.5371), we can see that odd ratio is 0.58. We can say that the odds of one gender (male) purchasing the item are just over half compared to females. We can remember that 0 is the encoded label for female and 1 is the encoded label for male."
   ]
  },
  {
   "cell_type": "code",
   "execution_count": null,
   "id": "70019d0d",
   "metadata": {},
   "outputs": [],
   "source": []
  }
 ],
 "metadata": {
  "kernelspec": {
   "display_name": "Python 3 (ipykernel)",
   "language": "python",
   "name": "python3"
  },
  "language_info": {
   "codemirror_mode": {
    "name": "ipython",
    "version": 3
   },
   "file_extension": ".py",
   "mimetype": "text/x-python",
   "name": "python",
   "nbconvert_exporter": "python",
   "pygments_lexer": "ipython3",
   "version": "3.10.9"
  }
 },
 "nbformat": 4,
 "nbformat_minor": 5
}
